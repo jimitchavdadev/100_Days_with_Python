{
 "cells": [
  {
   "cell_type": "code",
   "execution_count": 34,
   "metadata": {},
   "outputs": [
    {
     "name": "stdout",
     "output_type": "stream",
     "text": [
      "welcome to password generator!\n",
      "XH`B8\"34="
     ]
    }
   ],
   "source": [
    "# Password Generator\n",
    "import random\n",
    "import string\n",
    "\n",
    "# Create a list of alphabets (both uppercase and lowercase)\n",
    "alphabets = list(string.ascii_letters.upper())\n",
    "\n",
    "# Create a list of digits (0-9)\n",
    "numbers = list(string.digits)\n",
    "\n",
    "# Create a list of common symbols\n",
    "symbols = list(string.punctuation)\n",
    "\n",
    "print(\"welcome to password generator!\")\n",
    "\n",
    "nr_letters=int(input(\"How many letters do you need in your password? \"))\n",
    "nr_numbers=int(input(\"How many numbers do you need in your password? \"))\n",
    "nr_symbols=int(input(\"How many symbols do you need in your password? \"))\n",
    "\n",
    "pass_letters=[]\n",
    "for i in range(nr_letters):\n",
    "    pass_letters.append(random.choice(alphabets))\n",
    "\n",
    "pass_numbers=[]\n",
    "for i in range(nr_numbers):\n",
    "    pass_numbers.append(random.choice(numbers))\n",
    "\n",
    "pass_symbols=[]\n",
    "for i in range(nr_symbols):\n",
    "    pass_symbols.append(random.choice(symbols))\n",
    "\n",
    "password=pass_letters+pass_numbers+pass_symbols\n",
    "random.shuffle(password)\n",
    "for i in password:\n",
    "    print(i,end=\"\")"
   ]
  },
  {
   "cell_type": "code",
   "execution_count": 4,
   "metadata": {},
   "outputs": [
    {
     "name": "stdout",
     "output_type": "stream",
     "text": [
      "banana\n",
      "apple\n",
      "chickoo\n"
     ]
    }
   ],
   "source": [
    "fruits=[\"banana\",\"apple\",\"chickoo\"]\n",
    "for i in fruits:\n",
    "    print(i)"
   ]
  },
  {
   "cell_type": "code",
   "execution_count": 9,
   "metadata": {},
   "outputs": [
    {
     "name": "stdout",
     "output_type": "stream",
     "text": [
      "the average height is 164\n"
     ]
    }
   ],
   "source": [
    "# average height program\n",
    "heights=[180,124,165,173,189,169,146]\n",
    "sum=0\n",
    "for i in heights:\n",
    "    sum+=i\n",
    "\n",
    "avg=round(sum/len(heights))\n",
    "\n",
    "print(f\"the average height is {avg}\")\n",
    "\n",
    "# alternative\n",
    "\"\"\"\n",
    "sum(heights)/len(heights)\n",
    "\"\"\""
   ]
  },
  {
   "cell_type": "code",
   "execution_count": 14,
   "metadata": {},
   "outputs": [
    {
     "name": "stdout",
     "output_type": "stream",
     "text": [
      "highest marks is: 91\n"
     ]
    }
   ],
   "source": [
    "# Highest score\n",
    "\n",
    "marks=[78,65,89,86,55,91,64,89]\n",
    "\n",
    "max=marks[0]\n",
    "\n",
    "for i in range ( len(marks) - 1 ):\n",
    "    if ( marks[i+1] ) > max:\n",
    "        max = marks[i+1]\n",
    "\n",
    "print(f\"highest marks is: {max}\")\n",
    "\n",
    "\"\"\"\n",
    "range function:\n",
    "range(start,end, step)\n",
    "end wont be included, it will be taken as end-1\n",
    "\"\"\""
   ]
  },
  {
   "cell_type": "code",
   "execution_count": 16,
   "metadata": {},
   "outputs": [
    {
     "name": "stdout",
     "output_type": "stream",
     "text": [
      "5050\n"
     ]
    }
   ],
   "source": [
    "# Gauss sum\n",
    "total=0\n",
    "for i in range(1,101):\n",
    "    total+=i\n",
    "\n",
    "print(total)"
   ]
  },
  {
   "cell_type": "code",
   "execution_count": 18,
   "metadata": {},
   "outputs": [
    {
     "name": "stdout",
     "output_type": "stream",
     "text": [
      "1 3 5 7 9 \n",
      "the total is: 25\n"
     ]
    }
   ],
   "source": [
    "# Adding evens\n",
    "\n",
    "num=int(input(\"enter the limit: \"))\n",
    "total=0\n",
    "for i in range(1,num+1,2):\n",
    "    print(i,end=\" \")\n",
    "    total+=i\n",
    "\n",
    "print(f\"\\nthe total is: {total}\")"
   ]
  },
  {
   "cell_type": "code",
   "execution_count": 24,
   "metadata": {},
   "outputs": [
    {
     "name": "stdout",
     "output_type": "stream",
     "text": [
      "1\n",
      "2\n",
      "fizz\n",
      "4\n",
      "buzz\n",
      "fizz\n",
      "7\n",
      "8\n",
      "fizz\n",
      "buzz\n",
      "11\n",
      "fizz\n",
      "13\n",
      "14\n",
      "fizzbuzz\n",
      "16\n",
      "17\n",
      "fizz\n",
      "19\n",
      "buzz\n",
      "fizz\n",
      "22\n",
      "23\n",
      "fizz\n",
      "buzz\n",
      "26\n",
      "fizz\n",
      "28\n",
      "29\n",
      "fizzbuzz\n"
     ]
    }
   ],
   "source": [
    "# Fizz Buzz game\n",
    "num=int(input(\"enter the limit: \"))\n",
    "\n",
    "for i in range(1,num+1):\n",
    "    if i%3==0 and i%5==0:\n",
    "        print(\"fizzbuzz\")\n",
    "    elif i%3==0:\n",
    "        print(\"fizz\")\n",
    "    elif i%5==0:\n",
    "        print(\"buzz\")\n",
    "    else:\n",
    "        print(i)"
   ]
  }
 ],
 "metadata": {
  "kernelspec": {
   "display_name": "Python 3",
   "language": "python",
   "name": "python3"
  },
  "language_info": {
   "codemirror_mode": {
    "name": "ipython",
    "version": 3
   },
   "file_extension": ".py",
   "mimetype": "text/x-python",
   "name": "python",
   "nbconvert_exporter": "python",
   "pygments_lexer": "ipython3",
   "version": "3.12.1"
  }
 },
 "nbformat": 4,
 "nbformat_minor": 2
}
