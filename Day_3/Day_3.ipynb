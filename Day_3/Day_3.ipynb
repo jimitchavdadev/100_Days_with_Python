{
 "cells": [
  {
   "cell_type": "code",
   "execution_count": 9,
   "metadata": {},
   "outputs": [
    {
     "name": "stdout",
     "output_type": "stream",
     "text": [
      "you can ride the roller coaster\n"
     ]
    }
   ],
   "source": [
    "# roller coaster ticket\n",
    "height=float(input(\"enter your height: \"))\n",
    "if height > 120:\n",
    "    print(\"you can ride the roller coaster\")\n",
    "else:\n",
    "    print(\"you cannot ride the roller coaster\")"
   ]
  },
  {
   "cell_type": "code",
   "execution_count": 14,
   "metadata": {},
   "outputs": [
    {
     "name": "stdout",
     "output_type": "stream",
     "text": [
      "odd number\n"
     ]
    }
   ],
   "source": [
    "# odd even test\n",
    "number=int(input(\"enter the number: \"))\n",
    "if number % 2==0:\n",
    "    print(\"even number\")\n",
    "else:\n",
    "    print(\"odd number\")"
   ]
  },
  {
   "cell_type": "code",
   "execution_count": 17,
   "metadata": {},
   "outputs": [
    {
     "name": "stdout",
     "output_type": "stream",
     "text": [
      "enter to roller coaster ride!\n",
      "you can ride the roller coaster!\n"
     ]
    }
   ],
   "source": [
    "print(\"enter to roller coaster ride!\")\n",
    "height=float(input(\"enter your height: \"))\n",
    "if height>120:\n",
    "    age=int(input(\"enter your age: \"))\n",
    "    if age >= 18:\n",
    "        print(\"you can ride the roller coaster!\")\n",
    "    else:\n",
    "        print(\"you are not old enough to ride the roller coaster!\")\n",
    "else:\n",
    "    print(\"you are not tall enough to for the roller coaster\")"
   ]
  },
  {
   "cell_type": "code",
   "execution_count": 25,
   "metadata": {},
   "outputs": [
    {
     "name": "stdout",
     "output_type": "stream",
     "text": [
      "underweight\n"
     ]
    }
   ],
   "source": [
    "# Bmi calculator and interpreter\n",
    "height=float(input(\"enter your height in m: \"))\n",
    "\n",
    "weight=float(input(\"enter your weight in kg: \"))\n",
    "\n",
    "bmi=float(weight/(height**2))\n",
    "\n",
    "if bmi < 18.5:\n",
    "    print(\"underweight\")\n",
    "\n",
    "if bmi >=18.5 and bmi <25:\n",
    "    print(\"normal weight\")\n",
    "\n",
    "if bmi >=25 and bmi<30:\n",
    "    print(\"overweight\")\n",
    "\n",
    "if bmi>=30 and bmi<35:\n",
    "    print(\"obese\")\n",
    "\n",
    "if bmi >= 35:\n",
    "    print(\"clinically obese\")"
   ]
  },
  {
   "cell_type": "code",
   "execution_count": 38,
   "metadata": {},
   "outputs": [
    {
     "name": "stdout",
     "output_type": "stream",
     "text": [
      "leap year\n"
     ]
    }
   ],
   "source": [
    "# leap year\n",
    "year=float(input(\"enter the year: \"))\n",
    "\n",
    "# a leap year should be divisible by 4 but not by 100 , but can be divided by 400\n",
    "\n",
    "if (year%4==0 and year%100!=0) or (year%400==0):\n",
    "    print(\"leap year\")\n",
    "else:\n",
    "    print(\"not a leap year\")"
   ]
  },
  {
   "cell_type": "code",
   "execution_count": 6,
   "metadata": {},
   "outputs": [
    {
     "name": "stdout",
     "output_type": "stream",
     "text": [
      "enter to roller coaster ride!\n",
      "do you want photos?\n",
      "your bill is $15\n"
     ]
    }
   ],
   "source": [
    "# roller coaster bill calculator\n",
    "\n",
    "print(\"enter to roller coaster ride!\")\n",
    "bill=0\n",
    "height=float(input(\"enter your height: \"))\n",
    "if height>=120:\n",
    "    age=int(input(\"enter your age: \"))\n",
    "    if age >= 18:\n",
    "        bill+=12\n",
    "    elif age >= 12 and age < 18:\n",
    "        bill+=7\n",
    "    elif age <12 and age>0:\n",
    "        bill+=5\n",
    "    print(\"do you want photos?\")\n",
    "    if input(\"yes or no: \") == \"yes\":\n",
    "        bill+=3\n",
    "    print(f\"your bill is ${bill}\")\n",
    "\n",
    "else:\n",
    "    print(\"you are not tall enough to for the roller coaster\")\n",
    "\n"
   ]
  },
  {
   "cell_type": "code",
   "execution_count": 11,
   "metadata": {},
   "outputs": [
    {
     "name": "stdout",
     "output_type": "stream",
     "text": [
      "welcome to pizza shop!\n",
      "your bill is $18\n"
     ]
    }
   ],
   "source": [
    "# pizza order bill\n",
    "\n",
    "print(\"welcome to pizza shop!\")\n",
    "\n",
    "bill=0\n",
    "\n",
    "size=input(\"what size of pizza do you want? small, large, medium?\")\n",
    "\n",
    "lsize=size.lower()\n",
    "\n",
    "if lsize==\"small\":\n",
    "    bill+=15\n",
    "elif lsize==\"medium\":\n",
    "    bill+=20\n",
    "elif lsize==\"large\":\n",
    "    bill+=25\n",
    "\n",
    "pepporoni=input(\"do you want to add pepporoni? yes or no?\")\n",
    "lpepporoni=pepporoni.lower()\n",
    "if lsize==\"small\" and lpepporoni==\"yes\":\n",
    "    bill+=2\n",
    "elif (lsize==\"large\" or lsize==\"medium\") and lpepporoni==\"yes\":\n",
    "    bill+=3\n",
    "\n",
    "cheese=input(\"do you want extra cheese? \")\n",
    "lcheese=cheese.lower()\n",
    "\n",
    "if lcheese==\"yes\":\n",
    "    bill+=1    \n",
    "\n",
    "print(f\"your bill is ${bill}\")"
   ]
  }
 ],
 "metadata": {
  "kernelspec": {
   "display_name": "Python 3",
   "language": "python",
   "name": "python3"
  },
  "language_info": {
   "codemirror_mode": {
    "name": "ipython",
    "version": 3
   },
   "file_extension": ".py",
   "mimetype": "text/x-python",
   "name": "python",
   "nbconvert_exporter": "python",
   "pygments_lexer": "ipython3",
   "version": "3.12.1"
  }
 },
 "nbformat": 4,
 "nbformat_minor": 2
}
