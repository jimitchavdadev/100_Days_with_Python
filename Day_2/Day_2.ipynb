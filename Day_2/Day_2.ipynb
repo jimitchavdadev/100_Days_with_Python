{
 "cells": [
  {
   "cell_type": "code",
   "execution_count": 18,
   "metadata": {},
   "outputs": [
    {
     "name": "stdout",
     "output_type": "stream",
     "text": [
      "welcome to bill calculator\n",
      "each person should pay $ 27.90\n"
     ]
    }
   ],
   "source": [
    "# bill calculator\n",
    "print(\"welcome to bill calculator\")\n",
    "\n",
    "total=float(input(\"what was the total bill? $\\n\"))\n",
    "\n",
    "people=int(input(\"how many people to split the bill?\\n\"))\n",
    "\n",
    "tip_percent=int(input(\"what percent of tip would you like to give? 10, 12 or 15?\\n\"))\n",
    "\n",
    "tip_amount=total*tip_percent/100\n",
    "\n",
    "total_bill=total+tip_amount\n",
    "\n",
    "result=total_bill/people\n",
    "\n",
    "print(\"each person should pay $\",format(result,\".2f\"))"
   ]
  },
  {
   "cell_type": "code",
   "execution_count": 31,
   "metadata": {},
   "outputs": [
    {
     "name": "stdout",
     "output_type": "stream",
     "text": [
      "e\n",
      "123456\n",
      "579\n"
     ]
    }
   ],
   "source": [
    "print(\"hello\"[1])\n",
    "\n",
    "print(\"123\"+\"456\")\n",
    "\n",
    "print(123+456)"
   ]
  },
  {
   "cell_type": "code",
   "execution_count": 42,
   "metadata": {},
   "outputs": [
    {
     "name": "stdout",
     "output_type": "stream",
     "text": [
      "5\n",
      "<class 'int'>\n",
      "<class 'str'>\n",
      "100199\n",
      "100\n",
      "100.00\n"
     ]
    }
   ],
   "source": [
    "name=\"jimit\"\n",
    "\n",
    "length=len(name)\n",
    "\n",
    "print(length)\n",
    "print(type(length))\n",
    "print(type(name))\n",
    "print(str(100)+str(199))\n",
    "\n",
    "# print(int(jim)) will give error\n",
    "\n",
    "print(int(100.22))\n",
    "print(format(float(100),\".2f\"))"
   ]
  },
  {
   "cell_type": "code",
   "execution_count": 51,
   "metadata": {},
   "outputs": [
    {
     "name": "stdout",
     "output_type": "stream",
     "text": [
      "3\n"
     ]
    }
   ],
   "source": [
    "number=input(\"enter any two digit number: \")\n",
    "\n",
    "print(int(number[0])+int(number[1]))"
   ]
  },
  {
   "cell_type": "code",
   "execution_count": 65,
   "metadata": {},
   "outputs": [
    {
     "name": "stdout",
     "output_type": "stream",
     "text": [
      "your BMI is 18.75\n"
     ]
    }
   ],
   "source": [
    "# BMI Calculator\n",
    "\n",
    "height=float(input(\"enter your height in m: \"))\n",
    "\n",
    "weight=float(input(\"enter your weight in kg: \"))\n",
    "\n",
    "bmi=weight/(height**2)\n",
    "\n",
    "print(f\"your BMI is {bmi:.2f}\")"
   ]
  },
  {
   "cell_type": "code",
   "execution_count": 70,
   "metadata": {},
   "outputs": [
    {
     "name": "stdout",
     "output_type": "stream",
     "text": [
      "3\n",
      "2\n",
      "7.667\n",
      "2\n"
     ]
    }
   ],
   "source": [
    "print(round(8/3))   # round figure of 2.67 is 3\n",
    "\n",
    "print(round(7/3))   # round figure of 2.33 is 2\n",
    "\n",
    "print(round(23/3,3))    # round figure it till 3 decimal places\n",
    "\n",
    "print(8//3) # floor division"
   ]
  },
  {
   "cell_type": "code",
   "execution_count": null,
   "metadata": {},
   "outputs": [
    {
     "name": "stdout",
     "output_type": "stream",
     "text": [
      "your score is 0, your height is 1.8 and you are winnig is True\n"
     ]
    }
   ],
   "source": [
    "score=0\n",
    "height=1.8\n",
    "isWinning=True\n",
    "# print(\"your score is {score}, your height is {height} and you are winnig is {isWinnig}\")\n",
    "# the output: your score is {score}, your height is {height} and you are winnig is {isWinnig}\n",
    "# by using f-string\n",
    "print(f\"your score is {score}, your height is {height} and you are winnig is {isWinning}\")"
   ]
  },
  {
   "cell_type": "code",
   "execution_count": 1,
   "metadata": {},
   "outputs": [
    {
     "name": "stdout",
     "output_type": "stream",
     "text": [
      "your remaining age is 23 years or 8395 days or 1196 weeks or 276 months\n"
     ]
    }
   ],
   "source": [
    "# Remaining age calculator\n",
    "age = int(input(\"Enter your age: \"))\n",
    "remaining_age = 90 - age\n",
    "print(f\"your remaining age is {remaining_age} years or {remaining_age*365} days or {remaining_age*52} weeks or {remaining_age*12} months\")"
   ]
  }
 ],
 "metadata": {
  "kernelspec": {
   "display_name": "Python 3",
   "language": "python",
   "name": "python3"
  },
  "language_info": {
   "codemirror_mode": {
    "name": "ipython",
    "version": 3
   },
   "file_extension": ".py",
   "mimetype": "text/x-python",
   "name": "python",
   "nbconvert_exporter": "python",
   "pygments_lexer": "ipython3",
   "version": "3.12.1"
  }
 },
 "nbformat": 4,
 "nbformat_minor": 2
}
