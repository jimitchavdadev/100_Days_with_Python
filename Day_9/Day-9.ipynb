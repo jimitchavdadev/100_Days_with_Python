{
 "cells": [
  {
   "cell_type": "code",
   "execution_count": 6,
   "metadata": {},
   "outputs": [
    {
     "name": "stdout",
     "output_type": "stream",
     "text": [
      "repeated tasks\n",
      "error in a code\n",
      "repeated tasks\n"
     ]
    }
   ],
   "source": [
    "dict={\"bug\":\"error in a code\",\n",
    "      \"loop\":\"repeated tasks\"}\n",
    "\n",
    "print(dict[\"loop\"])\n",
    "\n",
    "# this will just print the keys\n",
    "for i in dict:\n",
    "    print(i)\n",
    "\n",
    "# this will print the values of the keys\n",
    "for i in dict:\n",
    "    print(dict[i])\n"
   ]
  },
  {
   "cell_type": "code",
   "execution_count": 7,
   "metadata": {},
   "outputs": [
    {
     "name": "stdout",
     "output_type": "stream",
     "text": [
      "{'Harry': 'Exceeds Expectation', 'Ron': 'Acceptable', 'Hermoine': 'Outstanding', 'Draco': 'Acceptable', 'Neville': 'Fail'}\n"
     ]
    }
   ],
   "source": [
    "# Grade calculator using dictionary\n",
    "\n",
    "def grade(grade):\n",
    "    if grade>90 and grade<100:\n",
    "        return \"Outstanding\"\n",
    "    if grade>80 and grade<90:\n",
    "        return \"Exceeds Expectation\"\n",
    "    if grade>70 and grade<80:\n",
    "        return \"Acceptable\"\n",
    "    if grade<=70:\n",
    "        return \"Fail\"\n",
    "\n",
    "student_scores={\n",
    "    \"Harry\":81,\n",
    "    \"Ron\":78,\n",
    "    \"Hermoine\":99,\n",
    "    \"Draco\":74,\n",
    "    \"Neville\":62\n",
    "}\n",
    "\n",
    "student_grades={}\n",
    "\n",
    "for i in student_scores:\n",
    "    student_grades[i]=grade(student_scores[i])\n",
    "\n",
    "print(student_grades)\n"
   ]
  },
  {
   "cell_type": "code",
   "execution_count": 9,
   "metadata": {},
   "outputs": [
    {
     "name": "stdout",
     "output_type": "stream",
     "text": [
      "[{'country': 'France', 'visits': 12, 'cities': ['Paris', 'Lille', 'Dijon']}, {'country': 'Germany', 'visits': 5, 'cities': ['Berlin', 'Munich', 'Stuttgart']}, {'country': 'Russia', 'visits': 2, 'cities': ['Moscow', 'Saint Petersberg']}]\n"
     ]
    }
   ],
   "source": [
    "travel_log=[\n",
    "    {\n",
    "        \"country\":\"France\",\n",
    "        \"visits\":12,\n",
    "        \"cities\":[\"Paris\",\"Lille\",\"Dijon\"]\n",
    "    },\n",
    "    {\n",
    "        \"country\":\"Germany\",\n",
    "        \"visits\":5,\n",
    "        \"cities\":[\"Berlin\",\"Munich\",\"Stuttgart\"]\n",
    "    }\n",
    "]\n",
    "\n",
    "def add_new_country(country,visits, cities):\n",
    "    new_entry={\n",
    "        \"country\":country,\n",
    "        \"visits\":visits,\n",
    "        \"cities\":cities\n",
    "    }\n",
    "    travel_log.append(new_entry)\n",
    "\n",
    "add_new_country(\"Russia\", 2, [\"Moscow\", \"Saint Petersberg\"])\n",
    "print(travel_log)\n"
   ]
  }
 ],
 "metadata": {
  "kernelspec": {
   "display_name": "Python 3",
   "language": "python",
   "name": "python3"
  },
  "language_info": {
   "codemirror_mode": {
    "name": "ipython",
    "version": 3
   },
   "file_extension": ".py",
   "mimetype": "text/x-python",
   "name": "python",
   "nbconvert_exporter": "python",
   "pygments_lexer": "ipython3",
   "version": "3.12.1"
  }
 },
 "nbformat": 4,
 "nbformat_minor": 2
}
