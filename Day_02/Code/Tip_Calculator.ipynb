{
 "cells": [
  {
   "cell_type": "code",
   "execution_count": 2,
   "metadata": {},
   "outputs": [
    {
     "name": "stdout",
     "output_type": "stream",
     "text": [
      "the total bill per person is: 33.60\n"
     ]
    }
   ],
   "source": [
    "# Tip calculator\n",
    "\n",
    "amount = float(input(\"Enter the amount: \"))\n",
    "tip = int(input(\"How much tip would you like to give? 10, 12 or 15? \"))\n",
    "person = int(input(\"How many people to split the bill? \"))\n",
    "tip_amount = amount *(1+tip/100)\n",
    "per_person = tip_amount/person\n",
    "\n",
    "print(f\"the total bill per person is: {per_person:.2f}\")"
   ]
  }
 ],
 "metadata": {
  "kernelspec": {
   "display_name": "Python 3",
   "language": "python",
   "name": "python3"
  },
  "language_info": {
   "codemirror_mode": {
    "name": "ipython",
    "version": 3
   },
   "file_extension": ".py",
   "mimetype": "text/x-python",
   "name": "python",
   "nbconvert_exporter": "python",
   "pygments_lexer": "ipython3",
   "version": "3.12.3"
  }
 },
 "nbformat": 4,
 "nbformat_minor": 2
}
