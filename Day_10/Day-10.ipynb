{
 "cells": [
  {
   "cell_type": "code",
   "execution_count": 3,
   "metadata": {},
   "outputs": [
    {
     "name": "stdout",
     "output_type": "stream",
     "text": [
      "Jimit Chavda\n"
     ]
    }
   ],
   "source": [
    "# name formatter\n",
    "def format_name(first_name, last_name):\n",
    "    return (first_name+\" \"+ last_name).title()\n",
    "\n",
    "print(format_name(\"jimit\", \"chavda\"))"
   ]
  },
  {
   "cell_type": "code",
   "execution_count": 13,
   "metadata": {},
   "outputs": [
    {
     "name": "stdout",
     "output_type": "stream",
     "text": [
      "28\n"
     ]
    }
   ],
   "source": [
    "# Number Of Days calculator\n",
    "\n",
    "# a leap year should be divisible by 4 but not by 100 , but can be divided by 400\n",
    "def leap_year(year):\n",
    "    if (year%4==0 and year%100!=0) or (year%400==0):\n",
    "        return True\n",
    "    else:\n",
    "        return False\n",
    "\n",
    "month_days=[31,28,31,30,31,30,31,31,30,31,30,31]\n",
    "\n",
    "def num_of_days(year,month):\n",
    "    if leap_year(year) and month==2:\n",
    "        return month_days[1]+1\n",
    "    else:\n",
    "        return month_days[month-1]\n",
    "\n",
    "year=int(input(\"enter the year: \"))\n",
    "month=int(input(\"enter the month: \"))\n",
    "\n",
    "print(num_of_days(year,month))"
   ]
  },
  {
   "cell_type": "code",
   "execution_count": 15,
   "metadata": {},
   "outputs": [
    {
     "name": "stdout",
     "output_type": "stream",
     "text": [
      "4.0\n"
     ]
    }
   ],
   "source": []
  }
 ],
 "metadata": {
  "kernelspec": {
   "display_name": "Python 3",
   "language": "python",
   "name": "python3"
  },
  "language_info": {
   "codemirror_mode": {
    "name": "ipython",
    "version": 3
   },
   "file_extension": ".py",
   "mimetype": "text/x-python",
   "name": "python",
   "nbconvert_exporter": "python",
   "pygments_lexer": "ipython3",
   "version": "3.12.1"
  }
 },
 "nbformat": 4,
 "nbformat_minor": 2
}
