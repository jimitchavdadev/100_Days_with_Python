{
 "cells": [
  {
   "cell_type": "code",
   "execution_count": 6,
   "metadata": {},
   "outputs": [
    {
     "name": "stdout",
     "output_type": "stream",
     "text": [
      "the number of cans required will be : 400.0\n"
     ]
    }
   ],
   "source": [
    "def num_of_cans(height, width):\n",
    "    area=float(height*width)\n",
    "    cans=(area)/5\n",
    "    print(f\"the number of cans required will be : {cans}\")\n",
    "\n",
    "height=float(input(\"enter the height of the wall\"))\n",
    "width=float(input(\"enter the width of the wall\"))\n",
    "\n",
    "num_of_cans(height,width)"
   ]
  },
  {
   "cell_type": "code",
   "execution_count": 25,
   "metadata": {},
   "outputs": [
    {
     "name": "stdout",
     "output_type": "stream",
     "text": [
      "True\n"
     ]
    }
   ],
   "source": [
    "# Prime number checker\n",
    "\n",
    "def prime_checker(num):\n",
    "    for i in range(2,num-1):\n",
    "        if num%i==0:\n",
    "            return False\n",
    "    return True\n",
    "\n",
    "num=int(input(\"enter the number: \"))\n",
    "print(f\"{prime_checker(num)}\")"
   ]
  }
 ],
 "metadata": {
  "kernelspec": {
   "display_name": "Python 3",
   "language": "python",
   "name": "python3"
  },
  "language_info": {
   "codemirror_mode": {
    "name": "ipython",
    "version": 3
   },
   "file_extension": ".py",
   "mimetype": "text/x-python",
   "name": "python",
   "nbconvert_exporter": "python",
   "pygments_lexer": "ipython3",
   "version": "3.12.1"
  }
 },
 "nbformat": 4,
 "nbformat_minor": 2
}
