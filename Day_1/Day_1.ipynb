{
 "cells": [
  {
   "cell_type": "code",
   "execution_count": 13,
   "metadata": {},
   "outputs": [
    {
     "name": "stdout",
     "output_type": "stream",
     "text": [
      "welcome to band name generator\n",
      "your band name is  ahm beast\n"
     ]
    }
   ],
   "source": [
    "# Project 1- band name generator\n",
    "print(\"welcome to band name generator\")\n",
    "city = input(\"what is the name of the city you grew up in?\\n\")\n",
    "pet_name=input(\"what is your pet name?\")\n",
    "print(\"your band name is \",city+\" \"+pet_name)"
   ]
  },
  {
   "cell_type": "code",
   "execution_count": 2,
   "metadata": {},
   "outputs": [
    {
     "name": "stdout",
     "output_type": "stream",
     "text": [
      "Day-1 Python Print Function\n",
      "The function is declared like this:\n",
      "print(\"what to print\")\n"
     ]
    }
   ],
   "source": [
    "print(\"Day-1 Python Print Function\")\n",
    "print(\"The function is declared like this:\")\n",
    "print(\"print(\\\"what to print\\\")\")"
   ]
  },
  {
   "cell_type": "code",
   "execution_count": 10,
   "metadata": {},
   "outputs": [
    {
     "name": "stdout",
     "output_type": "stream",
     "text": [
      "hello jimit\n"
     ]
    }
   ],
   "source": [
    "print(\"hello\"+\" \"+\"jimit\")"
   ]
  }
 ],
 "metadata": {
  "kernelspec": {
   "display_name": "Python 3",
   "language": "python",
   "name": "python3"
  },
  "language_info": {
   "codemirror_mode": {
    "name": "ipython",
    "version": 3
   },
   "file_extension": ".py",
   "mimetype": "text/x-python",
   "name": "python",
   "nbconvert_exporter": "python",
   "pygments_lexer": "ipython3",
   "version": "3.12.1"
  }
 },
 "nbformat": 4,
 "nbformat_minor": 2
}
